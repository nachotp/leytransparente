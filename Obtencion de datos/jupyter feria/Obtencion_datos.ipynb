{
 "cells": [
  {
   "cell_type": "code",
   "execution_count": null,
   "metadata": {},
   "outputs": [],
   "source": [
    "import requests\n",
    "import urllib.request\n",
    "import time\n",
    "from bs4 import BeautifulSoup\n",
    "import csv\n",
    "\n",
    "def get_datos(file):\n",
    "  comp = open(file,\"r\",encoding='latin')\n",
    "  compilado = csv.reader(comp, delimiter= \";\")\n",
    "  \n",
    "  itercomp = iter(cultural_reader)\n",
    "  next(itercomp)\n",
    "  for row in itercomp:\n",
    "    url = \"https://www.leychile.cl/Consulta/obtxml?opt=4546&idNorma=\"+str(row[5])\n",
    "    response = requests.get(url)\n",
    "    soup = BeautifulSoup(response.text, \"html.parser\")\n",
    "    if(soup.findAll(\"tipo\")[0].text == \"Ley\"): #condicion para filtrar decreto, codigo, ley, etc\n",
    "      numero = soup.findAll(\"numero\")[0].text #obtener el numero de la ley\n",
    "      lista_tags=[]\n",
    "      for tag in soup.findAll(\"terminolibre\"):\n",
    "        lista_tag.append(tag.text.strip()) #almacenar los tags en una lista\n",
    "      url_ley = soup.findAll(\"url\")[0].text #guardar la url de la ley para mostrarla en caso que sea necesario\n",
    "    "
   ]
  }
 ],
 "metadata": {
  "kernelspec": {
   "display_name": "Python 3",
   "language": "python",
   "name": "python3"
  },
  "language_info": {
   "codemirror_mode": {
    "name": "ipython",
    "version": 3
   },
   "file_extension": ".py",
   "mimetype": "text/x-python",
   "name": "python",
   "nbconvert_exporter": "python",
   "pygments_lexer": "ipython3",
   "version": "3.6.4"
  }
 },
 "nbformat": 4,
 "nbformat_minor": 2
}
